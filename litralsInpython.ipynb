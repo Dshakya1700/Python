{
 "cells": [
  {
   "cell_type": "code",
   "execution_count": null,
   "id": "34fd109b-90b1-4a23-adf4-d19dbebea082",
   "metadata": {},
   "outputs": [],
   "source": [
    "#string literals"
   ]
  },
  {
   "cell_type": "code",
   "execution_count": 1,
   "id": "53dd4643-888e-4063-ae24-2c171b118d8e",
   "metadata": {},
   "outputs": [],
   "source": [
    "a='deepak'"
   ]
  },
  {
   "cell_type": "code",
   "execution_count": 2,
   "id": "82b6ced7-3077-4e2e-a158-00ea8c9d6fc5",
   "metadata": {},
   "outputs": [],
   "source": [
    "b=\"shakyawar\""
   ]
  },
  {
   "cell_type": "code",
   "execution_count": 3,
   "id": "155fd0c8-f055-4c2f-acb4-4848499c454c",
   "metadata": {},
   "outputs": [],
   "source": [
    "c='''python'''"
   ]
  },
  {
   "cell_type": "code",
   "execution_count": 4,
   "id": "b9ced2c5-a38b-4f34-a7a4-f744df38d7b7",
   "metadata": {},
   "outputs": [
    {
     "ename": "SyntaxError",
     "evalue": "unterminated string literal (detected at line 1) (3512450229.py, line 1)",
     "output_type": "error",
     "traceback": [
      "\u001b[1;36m  Cell \u001b[1;32mIn[4], line 1\u001b[1;36m\u001b[0m\n\u001b[1;33m    d='hello\u001b[0m\n\u001b[1;37m      ^\u001b[0m\n\u001b[1;31mSyntaxError\u001b[0m\u001b[1;31m:\u001b[0m unterminated string literal (detected at line 1)\n"
     ]
    }
   ],
   "source": [
    "d='hello\n",
    "python' # error bcos for multiline string use the thriple quotes"
   ]
  },
  {
   "cell_type": "code",
   "execution_count": 5,
   "id": "686ccc20-a5a3-4a0b-9e8d-929ece7645e5",
   "metadata": {},
   "outputs": [],
   "source": [
    "d='''hello\n",
    "python'''"
   ]
  },
  {
   "cell_type": "code",
   "execution_count": null,
   "id": "f17f7335-69c8-461a-82e7-462c65a9c583",
   "metadata": {},
   "outputs": [],
   "source": [
    "# numeric literals(int, float,complex)"
   ]
  },
  {
   "cell_type": "code",
   "execution_count": 6,
   "id": "4f5c4bff-9ad0-4703-9038-c375fc225f2a",
   "metadata": {},
   "outputs": [],
   "source": [
    "num1=10"
   ]
  },
  {
   "cell_type": "code",
   "execution_count": 7,
   "id": "c06f163e-6a78-43cc-acb9-95abfc9f2ab9",
   "metadata": {},
   "outputs": [],
   "source": [
    "num2=20"
   ]
  },
  {
   "cell_type": "code",
   "execution_count": 8,
   "id": "7b2eda35-0ac3-48ee-abb8-2fd7cee02c2c",
   "metadata": {},
   "outputs": [
    {
     "name": "stdout",
     "output_type": "stream",
     "text": [
      "<class 'int'>\n",
      "<class 'int'>\n"
     ]
    }
   ],
   "source": [
    "print(type(num1))\n",
    "print(type(num2))"
   ]
  },
  {
   "cell_type": "code",
   "execution_count": 9,
   "id": "17e8c33b-d6be-4276-8cdb-9c794f86a446",
   "metadata": {},
   "outputs": [
    {
     "name": "stdout",
     "output_type": "stream",
     "text": [
      "<class 'float'>\n"
     ]
    }
   ],
   "source": [
    "f1=10.0\n",
    "print(type(f1))"
   ]
  },
  {
   "cell_type": "code",
   "execution_count": 11,
   "id": "e90c85c8-d92d-4652-9f82-8743d5362a09",
   "metadata": {},
   "outputs": [
    {
     "data": {
      "text/plain": [
       "290.0"
      ]
     },
     "execution_count": 11,
     "metadata": {},
     "output_type": "execute_result"
    }
   ],
   "source": [
    "f2=29e01\n",
    "f2"
   ]
  },
  {
   "cell_type": "code",
   "execution_count": 12,
   "id": "63f87d23-bd9a-4b60-a0b5-2574415f02ca",
   "metadata": {},
   "outputs": [
    {
     "data": {
      "text/plain": [
       "2.9"
      ]
     },
     "execution_count": 12,
     "metadata": {},
     "output_type": "execute_result"
    }
   ],
   "source": [
    "f3=29e-1\n",
    "f3"
   ]
  },
  {
   "cell_type": "code",
   "execution_count": null,
   "id": "35e53223-425a-450f-8128-1f2e52e9e220",
   "metadata": {},
   "outputs": [],
   "source": [
    "#complex number"
   ]
  },
  {
   "cell_type": "code",
   "execution_count": 13,
   "id": "b1afcfbc-c167-4983-9085-6596060c39c3",
   "metadata": {},
   "outputs": [
    {
     "data": {
      "text/plain": [
       "(3+3j)"
      ]
     },
     "execution_count": 13,
     "metadata": {},
     "output_type": "execute_result"
    }
   ],
   "source": [
    "cmp=3+3j\n",
    "cmp"
   ]
  },
  {
   "cell_type": "code",
   "execution_count": 14,
   "id": "6f772a38-6000-4af7-b283-8cd9444a1cb1",
   "metadata": {},
   "outputs": [
    {
     "data": {
      "text/plain": [
       "complex"
      ]
     },
     "execution_count": 14,
     "metadata": {},
     "output_type": "execute_result"
    }
   ],
   "source": [
    "type(cmp)"
   ]
  },
  {
   "cell_type": "code",
   "execution_count": null,
   "id": "a1b15f69-7b55-4f82-b1c0-13f3d9b43855",
   "metadata": {},
   "outputs": [],
   "source": [
    "#boolean literal"
   ]
  },
  {
   "cell_type": "code",
   "execution_count": 15,
   "id": "3e6888d9-9316-4612-a8b0-66c1460750e7",
   "metadata": {},
   "outputs": [
    {
     "data": {
      "text/plain": [
       "True"
      ]
     },
     "execution_count": 15,
     "metadata": {},
     "output_type": "execute_result"
    }
   ],
   "source": [
    "b1=True\n",
    "b1"
   ]
  },
  {
   "cell_type": "code",
   "execution_count": 16,
   "id": "74adb99f-0a22-42eb-b826-e6c8e1211e52",
   "metadata": {},
   "outputs": [
    {
     "data": {
      "text/plain": [
       "False"
      ]
     },
     "execution_count": 16,
     "metadata": {},
     "output_type": "execute_result"
    }
   ],
   "source": [
    "b2=False\n",
    "b2"
   ]
  },
  {
   "cell_type": "code",
   "execution_count": null,
   "id": "a1ecec84-fde4-43d7-9e15-0bf1bd1927a2",
   "metadata": {},
   "outputs": [],
   "source": []
  },
  {
   "cell_type": "code",
   "execution_count": null,
   "id": "adb9c8fc-23d9-450e-9558-c28f1a6ca17c",
   "metadata": {},
   "outputs": [],
   "source": []
  }
 ],
 "metadata": {
  "kernelspec": {
   "display_name": "Python 3 (ipykernel)",
   "language": "python",
   "name": "python3"
  },
  "language_info": {
   "codemirror_mode": {
    "name": "ipython",
    "version": 3
   },
   "file_extension": ".py",
   "mimetype": "text/x-python",
   "name": "python",
   "nbconvert_exporter": "python",
   "pygments_lexer": "ipython3",
   "version": "3.12.7"
  }
 },
 "nbformat": 4,
 "nbformat_minor": 5
}
