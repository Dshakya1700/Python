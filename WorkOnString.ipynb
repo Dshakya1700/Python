{
 "cells": [
  {
   "cell_type": "markdown",
   "id": "68935254-82d8-49ea-9098-b12bd13f3a77",
   "metadata": {},
   "source": [
    "#Basics of string literals"
   ]
  },
  {
   "cell_type": "code",
   "execution_count": 1,
   "id": "42422898-b185-4c93-988e-1c7dd9300b62",
   "metadata": {},
   "outputs": [
    {
     "data": {
      "text/plain": [
       "'hello'"
      ]
     },
     "execution_count": 1,
     "metadata": {},
     "output_type": "execute_result"
    }
   ],
   "source": [
    "s1='hello'\n",
    "s1"
   ]
  },
  {
   "cell_type": "code",
   "execution_count": 2,
   "id": "408b9b69-d39f-46f7-87c9-a3380f02fad4",
   "metadata": {},
   "outputs": [
    {
     "data": {
      "text/plain": [
       "'hello'"
      ]
     },
     "execution_count": 2,
     "metadata": {},
     "output_type": "execute_result"
    }
   ],
   "source": [
    "s2=\"hello\"\n",
    "s2"
   ]
  },
  {
   "cell_type": "code",
   "execution_count": 3,
   "id": "ece2386c-439a-4efd-83e6-047b6a45e34a",
   "metadata": {},
   "outputs": [
    {
     "data": {
      "text/plain": [
       "'hello python'"
      ]
     },
     "execution_count": 3,
     "metadata": {},
     "output_type": "execute_result"
    }
   ],
   "source": [
    "s3='''hello python'''\n",
    "s3"
   ]
  },
  {
   "cell_type": "code",
   "execution_count": 4,
   "id": "d9b6a843-fd9d-43e1-aade-eed6300272d5",
   "metadata": {},
   "outputs": [
    {
     "data": {
      "text/plain": [
       "'hello\\n python'"
      ]
     },
     "execution_count": 4,
     "metadata": {},
     "output_type": "execute_result"
    }
   ],
   "source": [
    "s4='''hello #count the escape sequence in string len\n",
    " python'''\n",
    "s4"
   ]
  },
  {
   "cell_type": "code",
   "execution_count": 5,
   "id": "ce85b2e0-e8bb-4c7d-a6b4-171cb691622e",
   "metadata": {},
   "outputs": [
    {
     "data": {
      "text/plain": [
       "13"
      ]
     },
     "execution_count": 5,
     "metadata": {},
     "output_type": "execute_result"
    }
   ],
   "source": [
    "len(s4)"
   ]
  },
  {
   "cell_type": "code",
   "execution_count": 7,
   "id": "f26253f6-825e-4de5-b951-8f1bcf1920be",
   "metadata": {},
   "outputs": [
    {
     "data": {
      "text/plain": [
       "'hello python'"
      ]
     },
     "execution_count": 7,
     "metadata": {},
     "output_type": "execute_result"
    }
   ],
   "source": [
    "s5='hello\\ # did not count the escape sequence in string len\n",
    " python'\n",
    "s5"
   ]
  },
  {
   "cell_type": "code",
   "execution_count": 8,
   "id": "a3efeb0c-1c7e-4fed-a96c-7b6ba3f9a90c",
   "metadata": {},
   "outputs": [
    {
     "data": {
      "text/plain": [
       "12"
      ]
     },
     "execution_count": 8,
     "metadata": {},
     "output_type": "execute_result"
    }
   ],
   "source": [
    "len(s5)"
   ]
  },
  {
   "cell_type": "markdown",
   "id": "8d573943-c7e9-4180-948f-a28f989c3d57",
   "metadata": {},
   "source": [
    "#string operators"
   ]
  },
  {
   "cell_type": "code",
   "execution_count": null,
   "id": "5888a90e-d98a-4422-b0d5-8dacd6bde35e",
   "metadata": {},
   "outputs": [],
   "source": [
    "#string concatenation operator +"
   ]
  },
  {
   "cell_type": "code",
   "execution_count": 11,
   "id": "0df352dc-d3dd-4afa-bc4d-d28abda9a87d",
   "metadata": {},
   "outputs": [
    {
     "data": {
      "text/plain": [
       "'teapot'"
      ]
     },
     "execution_count": 11,
     "metadata": {},
     "output_type": "execute_result"
    }
   ],
   "source": [
    "'tea'+'pot'"
   ]
  },
  {
   "cell_type": "code",
   "execution_count": 12,
   "id": "e358eae8-cb90-4c09-b123-f1cf0675c471",
   "metadata": {},
   "outputs": [
    {
     "data": {
      "text/plain": [
       "'tajmahal'"
      ]
     },
     "execution_count": 12,
     "metadata": {},
     "output_type": "execute_result"
    }
   ],
   "source": [
    "\"taj\"+\"mahal\""
   ]
  },
  {
   "cell_type": "code",
   "execution_count": 13,
   "id": "35776401-f700-4f54-b9f6-06f900e3145c",
   "metadata": {},
   "outputs": [
    {
     "data": {
      "text/plain": [
       "'sweethome'"
      ]
     },
     "execution_count": 13,
     "metadata": {},
     "output_type": "execute_result"
    }
   ],
   "source": [
    "'sweet'+'home'"
   ]
  },
  {
   "cell_type": "code",
   "execution_count": null,
   "id": "d3013908-9a34-4a10-b43b-80c7660a2355",
   "metadata": {},
   "outputs": [],
   "source": [
    "#string Replication operator *"
   ]
  },
  {
   "cell_type": "code",
   "execution_count": 14,
   "id": "d849f5db-386d-4ac8-9ce5-fa2728137661",
   "metadata": {},
   "outputs": [
    {
     "data": {
      "text/plain": [
       "'go!go!go!'"
      ]
     },
     "execution_count": 14,
     "metadata": {},
     "output_type": "execute_result"
    }
   ],
   "source": [
    "'go!'*3"
   ]
  },
  {
   "cell_type": "code",
   "execution_count": 15,
   "id": "212d2a67-9d4b-4163-91b8-488e8c663c83",
   "metadata": {},
   "outputs": [
    {
     "data": {
      "text/plain": [
       "'abc abc abc abc abc '"
      ]
     },
     "execution_count": 15,
     "metadata": {},
     "output_type": "execute_result"
    }
   ],
   "source": [
    "\"abc \"*5"
   ]
  },
  {
   "cell_type": "code",
   "execution_count": null,
   "id": "41112593-a121-46f3-828f-98b6bcbfd85b",
   "metadata": {},
   "outputs": [],
   "source": [
    "#membership operator in and not in"
   ]
  },
  {
   "cell_type": "code",
   "execution_count": 16,
   "id": "ec431244-1fa6-4625-bf2d-58fae4de63a6",
   "metadata": {},
   "outputs": [
    {
     "data": {
      "text/plain": [
       "True"
      ]
     },
     "execution_count": 16,
     "metadata": {},
     "output_type": "execute_result"
    }
   ],
   "source": [
    "s6='Python is interesting language'\n",
    "'is' in s6"
   ]
  },
  {
   "cell_type": "code",
   "execution_count": 17,
   "id": "896e0475-74d7-485d-8661-0d4fcb11a786",
   "metadata": {},
   "outputs": [
    {
     "data": {
      "text/plain": [
       "True"
      ]
     },
     "execution_count": 17,
     "metadata": {},
     "output_type": "execute_result"
    }
   ],
   "source": [
    "'the' not in s6"
   ]
  },
  {
   "cell_type": "code",
   "execution_count": null,
   "id": "fe2c5d82-d334-48a0-9f14-7af8de42e038",
   "metadata": {},
   "outputs": [],
   "source": [
    "#write a programe to input an integer and check if it contain any 0 in it"
   ]
  },
  {
   "cell_type": "code",
   "execution_count": 22,
   "id": "4d25f4ec-4f12-42d0-80b5-4a5ec14a9eb8",
   "metadata": {},
   "outputs": [
    {
     "name": "stdin",
     "output_type": "stream",
     "text": [
      "enter any number 2305\n"
     ]
    },
    {
     "name": "stdout",
     "output_type": "stream",
     "text": [
      "yes 0 in there\n"
     ]
    }
   ],
   "source": [
    "number=int(input('enter any number'))\n",
    "s=str(number)\n",
    "if '0' in s:\n",
    "    print('yes 0 in there')\n",
    "else:\n",
    "    print('0 is not there')\n",
    "           "
   ]
  },
  {
   "cell_type": "code",
   "execution_count": null,
   "id": "5f0ed0b0-321b-4a30-9e4c-b5fea1687a7c",
   "metadata": {},
   "outputs": [],
   "source": [
    "#comparission operator"
   ]
  },
  {
   "cell_type": "code",
   "execution_count": 23,
   "id": "ae82c07e-a045-46d7-bee2-a463ab163d47",
   "metadata": {},
   "outputs": [
    {
     "data": {
      "text/plain": [
       "True"
      ]
     },
     "execution_count": 23,
     "metadata": {},
     "output_type": "execute_result"
    }
   ],
   "source": [
    "'a'=='a'"
   ]
  },
  {
   "cell_type": "code",
   "execution_count": 25,
   "id": "eabf06c6-422a-4475-b1df-0de97a30d41f",
   "metadata": {},
   "outputs": [
    {
     "data": {
      "text/plain": [
       "True"
      ]
     },
     "execution_count": 25,
     "metadata": {},
     "output_type": "execute_result"
    }
   ],
   "source": [
    "'abc'=='abc'"
   ]
  },
  {
   "cell_type": "code",
   "execution_count": 26,
   "id": "43d4ffea-a304-4c44-ac24-876b56f9d0a7",
   "metadata": {},
   "outputs": [
    {
     "data": {
      "text/plain": [
       "True"
      ]
     },
     "execution_count": 26,
     "metadata": {},
     "output_type": "execute_result"
    }
   ],
   "source": [
    "'a'!='abc'"
   ]
  },
  {
   "cell_type": "code",
   "execution_count": 27,
   "id": "6e8a0ef7-7de4-406d-8d47-5276f46613e8",
   "metadata": {},
   "outputs": [
    {
     "data": {
      "text/plain": [
       "True"
      ]
     },
     "execution_count": 27,
     "metadata": {},
     "output_type": "execute_result"
    }
   ],
   "source": [
    "'A'!='a'"
   ]
  },
  {
   "cell_type": "code",
   "execution_count": 28,
   "id": "290e8adc-8603-4955-a040-646ec0d38138",
   "metadata": {},
   "outputs": [
    {
     "data": {
      "text/plain": [
       "False"
      ]
     },
     "execution_count": 28,
     "metadata": {},
     "output_type": "execute_result"
    }
   ],
   "source": [
    "\"ABC\"==\"abc\""
   ]
  },
  {
   "cell_type": "code",
   "execution_count": 29,
   "id": "79b2d47e-f1a0-4de6-b77d-e5c8e79daf6d",
   "metadata": {},
   "outputs": [
    {
     "data": {
      "text/plain": [
       "False"
      ]
     },
     "execution_count": 29,
     "metadata": {},
     "output_type": "execute_result"
    }
   ],
   "source": [
    " \"a\"<\"A\""
   ]
  },
  {
   "cell_type": "code",
   "execution_count": 30,
   "id": "ff1ba675-5451-4d1d-98c0-1c13df36d09b",
   "metadata": {},
   "outputs": [
    {
     "data": {
      "text/plain": [
       "True"
      ]
     },
     "execution_count": 30,
     "metadata": {},
     "output_type": "execute_result"
    }
   ],
   "source": [
    "'ABC'>'AB'"
   ]
  },
  {
   "cell_type": "code",
   "execution_count": 31,
   "id": "e5a7b964-8c6f-4a99-8653-0dfe5e29e4cc",
   "metadata": {},
   "outputs": [
    {
     "data": {
      "text/plain": [
       "False"
      ]
     },
     "execution_count": 31,
     "metadata": {},
     "output_type": "execute_result"
    }
   ],
   "source": [
    "'abc'<='ABC'"
   ]
  },
  {
   "cell_type": "code",
   "execution_count": null,
   "id": "9c880bb7-ef5c-42f9-9698-44c31966ad20",
   "metadata": {},
   "outputs": [],
   "source": [
    "#determining Ordinal/unicode value of a single character"
   ]
  },
  {
   "cell_type": "code",
   "execution_count": 32,
   "id": "75d425bd-12ad-495b-87f0-5bd71ab2a876",
   "metadata": {},
   "outputs": [
    {
     "data": {
      "text/plain": [
       "65"
      ]
     },
     "execution_count": 32,
     "metadata": {},
     "output_type": "execute_result"
    }
   ],
   "source": [
    "ord('A')"
   ]
  },
  {
   "cell_type": "code",
   "execution_count": 33,
   "id": "6870d0ed-9350-4a6c-8fb8-47e9106a6dc5",
   "metadata": {},
   "outputs": [
    {
     "data": {
      "text/plain": [
       "97"
      ]
     },
     "execution_count": 33,
     "metadata": {},
     "output_type": "execute_result"
    }
   ],
   "source": [
    "ord('a')"
   ]
  },
  {
   "cell_type": "code",
   "execution_count": 34,
   "id": "f580d526-c912-449a-a70a-c99d7a00e609",
   "metadata": {},
   "outputs": [
    {
     "data": {
      "text/plain": [
       "'a'"
      ]
     },
     "execution_count": 34,
     "metadata": {},
     "output_type": "execute_result"
    }
   ],
   "source": [
    "chr(97)"
   ]
  },
  {
   "cell_type": "code",
   "execution_count": 36,
   "id": "a0d745bc-b3c4-4afe-b7a5-42d3de42a2d3",
   "metadata": {},
   "outputs": [
    {
     "data": {
      "text/plain": [
       "'z'"
      ]
     },
     "execution_count": 36,
     "metadata": {},
     "output_type": "execute_result"
    }
   ],
   "source": [
    "chr(122)"
   ]
  },
  {
   "cell_type": "code",
   "execution_count": null,
   "id": "1277c65a-0479-4d9d-9b94-4527ec39db32",
   "metadata": {},
   "outputs": [],
   "source": [
    "#string sliceing"
   ]
  },
  {
   "cell_type": "code",
   "execution_count": 37,
   "id": "e3617e83-a53c-4024-a7d1-f354d5ee2c72",
   "metadata": {},
   "outputs": [],
   "source": [
    "string=\"hello python\""
   ]
  },
  {
   "cell_type": "code",
   "execution_count": 38,
   "id": "8be8cf2f-ed90-4a51-9838-a1698d89e4d9",
   "metadata": {},
   "outputs": [
    {
     "data": {
      "text/plain": [
       "'hello python'"
      ]
     },
     "execution_count": 38,
     "metadata": {},
     "output_type": "execute_result"
    }
   ],
   "source": [
    "string[:]"
   ]
  },
  {
   "cell_type": "code",
   "execution_count": 42,
   "id": "d655572d-371d-421a-ba16-bdc2328ba627",
   "metadata": {},
   "outputs": [
    {
     "data": {
      "text/plain": [
       "'hello python'"
      ]
     },
     "execution_count": 42,
     "metadata": {},
     "output_type": "execute_result"
    }
   ],
   "source": [
    "string[:len(string)]"
   ]
  },
  {
   "cell_type": "code",
   "execution_count": 49,
   "id": "268c76eb-97ac-436e-ae27-f4f322cb67f6",
   "metadata": {},
   "outputs": [
    {
     "data": {
      "text/plain": [
       "'nohtyp olleh'"
      ]
     },
     "execution_count": 49,
     "metadata": {},
     "output_type": "execute_result"
    }
   ],
   "source": [
    "string[::-1] # print reverse string"
   ]
  },
  {
   "cell_type": "code",
   "execution_count": 51,
   "id": "4dc3d43c-fb84-484e-947e-424114503a1d",
   "metadata": {},
   "outputs": [
    {
     "data": {
      "text/plain": [
       "'lo py'"
      ]
     },
     "execution_count": 51,
     "metadata": {},
     "output_type": "execute_result"
    }
   ],
   "source": [
    "string[3:8]"
   ]
  },
  {
   "cell_type": "code",
   "execution_count": 52,
   "id": "59fb78c9-007b-4e4b-823e-e636bf76222d",
   "metadata": {},
   "outputs": [
    {
     "data": {
      "text/plain": [
       "'hello p'"
      ]
     },
     "execution_count": 52,
     "metadata": {},
     "output_type": "execute_result"
    }
   ],
   "source": [
    "string[:7]"
   ]
  },
  {
   "cell_type": "code",
   "execution_count": null,
   "id": "f400fa5d-3a5b-4b84-a963-c51b504af9e7",
   "metadata": {},
   "outputs": [],
   "source": []
  },
  {
   "cell_type": "code",
   "execution_count": null,
   "id": "5dcec402-801e-498e-8182-c88dd94868d9",
   "metadata": {},
   "outputs": [],
   "source": []
  },
  {
   "cell_type": "markdown",
   "id": "8192b63d-4525-4324-9a11-c88894669446",
   "metadata": {},
   "source": [
    "#string manipulation functions and methods"
   ]
  },
  {
   "cell_type": "code",
   "execution_count": null,
   "id": "07da1e26-c945-4892-84ce-b974f60e01b1",
   "metadata": {},
   "outputs": [],
   "source": [
    "#len() function"
   ]
  },
  {
   "cell_type": "code",
   "execution_count": 53,
   "id": "782b47df-7ac6-4fbd-93ef-257b123a5893",
   "metadata": {},
   "outputs": [
    {
     "data": {
      "text/plain": [
       "6"
      ]
     },
     "execution_count": 53,
     "metadata": {},
     "output_type": "execute_result"
    }
   ],
   "source": [
    "s8='deepak'\n",
    "len(s8)"
   ]
  },
  {
   "cell_type": "code",
   "execution_count": null,
   "id": "493ad4b1-fb86-4538-92c9-692cc7cd0ec5",
   "metadata": {},
   "outputs": [],
   "source": [
    "#capitalize() method"
   ]
  },
  {
   "cell_type": "code",
   "execution_count": 54,
   "id": "16dc002f-4e65-4a9f-8ab5-d78981508860",
   "metadata": {},
   "outputs": [
    {
     "data": {
      "text/plain": [
       "'Deepak'"
      ]
     },
     "execution_count": 54,
     "metadata": {},
     "output_type": "execute_result"
    }
   ],
   "source": [
    "s8.capitalize()"
   ]
  },
  {
   "cell_type": "code",
   "execution_count": 55,
   "id": "3fc82142-2064-408b-8306-26c161cefa6e",
   "metadata": {},
   "outputs": [
    {
     "data": {
      "text/plain": [
       "'I love my india'"
      ]
     },
     "execution_count": 55,
     "metadata": {},
     "output_type": "execute_result"
    }
   ],
   "source": [
    "s9='i love my India'\n",
    "s9.capitalize()"
   ]
  },
  {
   "cell_type": "code",
   "execution_count": null,
   "id": "2d7b9c5c-ebf3-41ab-8ec2-13b669b7f1de",
   "metadata": {},
   "outputs": [],
   "source": [
    "#count() method"
   ]
  },
  {
   "cell_type": "code",
   "execution_count": 57,
   "id": "8afacf0f-36dc-4022-8e8d-d2aad93a8e5f",
   "metadata": {},
   "outputs": [],
   "source": [
    "s10='abracadabra'"
   ]
  },
  {
   "cell_type": "code",
   "execution_count": 58,
   "id": "09f4746c-a7fe-427f-bbfe-0e52f0edfb61",
   "metadata": {},
   "outputs": [
    {
     "data": {
      "text/plain": [
       "2"
      ]
     },
     "execution_count": 58,
     "metadata": {},
     "output_type": "execute_result"
    }
   ],
   "source": [
    "s10.count('ab')"
   ]
  },
  {
   "cell_type": "code",
   "execution_count": 60,
   "id": "e1a4db1c-4968-4f92-a043-815a98e23e71",
   "metadata": {},
   "outputs": [
    {
     "data": {
      "text/plain": [
       "5"
      ]
     },
     "execution_count": 60,
     "metadata": {},
     "output_type": "execute_result"
    }
   ],
   "source": [
    "s10.count('a')"
   ]
  },
  {
   "cell_type": "code",
   "execution_count": 61,
   "id": "ecb4ff9d-decb-45c8-8ed0-474ece843f52",
   "metadata": {},
   "outputs": [
    {
     "data": {
      "text/plain": [
       "2"
      ]
     },
     "execution_count": 61,
     "metadata": {},
     "output_type": "execute_result"
    }
   ],
   "source": [
    "s10.count('a',6) #count occurrences of a from 6th posintion"
   ]
  },
  {
   "cell_type": "code",
   "execution_count": 62,
   "id": "062360fe-f401-423d-8ee9-bf7ca9efa3f5",
   "metadata": {},
   "outputs": [
    {
     "data": {
      "text/plain": [
       "1"
      ]
     },
     "execution_count": 62,
     "metadata": {},
     "output_type": "execute_result"
    }
   ],
   "source": [
    "s10.count('a',6,8) #count occurrences of 'a' 6 to 8 characters"
   ]
  },
  {
   "cell_type": "code",
   "execution_count": null,
   "id": "d3d88081-908b-4e36-a35c-551376769b34",
   "metadata": {},
   "outputs": [],
   "source": [
    "#find() method"
   ]
  },
  {
   "cell_type": "code",
   "execution_count": 63,
   "id": "ccafbf7e-12e5-41e0-92c9-4660df7f5f56",
   "metadata": {},
   "outputs": [
    {
     "data": {
      "text/plain": [
       "3"
      ]
     },
     "execution_count": 63,
     "metadata": {},
     "output_type": "execute_result"
    }
   ],
   "source": [
    "s11='it is good'\n",
    "sub='is'\n",
    "s11.find(sub)"
   ]
  },
  {
   "cell_type": "code",
   "execution_count": 64,
   "id": "88b67d1f-78dc-43e2-9899-d9d7260992ff",
   "metadata": {},
   "outputs": [
    {
     "data": {
      "text/plain": [
       "-1"
      ]
     },
     "execution_count": 64,
     "metadata": {},
     "output_type": "execute_result"
    }
   ],
   "source": [
    "s11.find(sub,4,9)"
   ]
  },
  {
   "cell_type": "code",
   "execution_count": null,
   "id": "50a3eb82-1f35-4c95-a3e3-d065c60169d4",
   "metadata": {},
   "outputs": [],
   "source": [
    "#index() method"
   ]
  },
  {
   "cell_type": "code",
   "execution_count": 65,
   "id": "a8a476a9-483a-4f4b-9d91-c9495674b05b",
   "metadata": {},
   "outputs": [
    {
     "data": {
      "text/plain": [
       "3"
      ]
     },
     "execution_count": 65,
     "metadata": {},
     "output_type": "execute_result"
    }
   ],
   "source": [
    "s11.index(sub)"
   ]
  },
  {
   "cell_type": "code",
   "execution_count": 67,
   "id": "ca218394-4e63-4f2a-9124-ab8fd6721b00",
   "metadata": {},
   "outputs": [
    {
     "data": {
      "text/plain": [
       "3"
      ]
     },
     "execution_count": 67,
     "metadata": {},
     "output_type": "execute_result"
    }
   ],
   "source": [
    "s11.index('is')"
   ]
  },
  {
   "cell_type": "code",
   "execution_count": 68,
   "id": "029c1d3f-f927-45e9-bcaf-1b871db88510",
   "metadata": {},
   "outputs": [
    {
     "ename": "ValueError",
     "evalue": "substring not found",
     "output_type": "error",
     "traceback": [
      "\u001b[1;31m---------------------------------------------------------------------------\u001b[0m",
      "\u001b[1;31mValueError\u001b[0m                                Traceback (most recent call last)",
      "Cell \u001b[1;32mIn[68], line 1\u001b[0m\n\u001b[1;32m----> 1\u001b[0m s11\u001b[38;5;241m.\u001b[39mindex(\u001b[38;5;124m'\u001b[39m\u001b[38;5;124mof\u001b[39m\u001b[38;5;124m'\u001b[39m)\n",
      "\u001b[1;31mValueError\u001b[0m: substring not found"
     ]
    }
   ],
   "source": [
    "s11.index('of')"
   ]
  },
  {
   "cell_type": "code",
   "execution_count": null,
   "id": "6063904e-5185-4bb8-9bcd-7e21c9721b15",
   "metadata": {},
   "outputs": [],
   "source": [
    "#isalnum() method"
   ]
  },
  {
   "cell_type": "code",
   "execution_count": 70,
   "id": "162df2e0-d699-4fc0-b907-7dd6a341cd37",
   "metadata": {},
   "outputs": [
    {
     "data": {
      "text/plain": [
       "True"
      ]
     },
     "execution_count": 70,
     "metadata": {},
     "output_type": "execute_result"
    }
   ],
   "source": [
    "string='abc123'\n",
    "string2='hello'\n",
    "string3='12345'\n",
    "string4=''\n",
    "string.isalnum()"
   ]
  },
  {
   "cell_type": "code",
   "execution_count": 71,
   "id": "ce993072-f3c9-444b-a263-552cdba4c180",
   "metadata": {},
   "outputs": [
    {
     "data": {
      "text/plain": [
       "True"
      ]
     },
     "execution_count": 71,
     "metadata": {},
     "output_type": "execute_result"
    }
   ],
   "source": [
    "string2.isalnum()"
   ]
  },
  {
   "cell_type": "code",
   "execution_count": 72,
   "id": "3245a4c7-7454-424e-b45c-8171ac695a51",
   "metadata": {},
   "outputs": [
    {
     "data": {
      "text/plain": [
       "True"
      ]
     },
     "execution_count": 72,
     "metadata": {},
     "output_type": "execute_result"
    }
   ],
   "source": [
    "string3.isalnum()"
   ]
  },
  {
   "cell_type": "code",
   "execution_count": 73,
   "id": "aaf654f6-f216-4eac-a926-5f26d227158d",
   "metadata": {},
   "outputs": [
    {
     "data": {
      "text/plain": [
       "False"
      ]
     },
     "execution_count": 73,
     "metadata": {},
     "output_type": "execute_result"
    }
   ],
   "source": [
    "string4.isalnum()"
   ]
  },
  {
   "cell_type": "code",
   "execution_count": 75,
   "id": "6661ee25-4a44-4cfc-992e-4ae3ba1ab181",
   "metadata": {},
   "outputs": [
    {
     "data": {
      "text/plain": [
       "True"
      ]
     },
     "execution_count": 75,
     "metadata": {},
     "output_type": "execute_result"
    }
   ],
   "source": [
    "c='speed@total'\n",
    "c.isalnum()!= True"
   ]
  },
  {
   "cell_type": "code",
   "execution_count": null,
   "id": "b8567611-c7d0-4667-9088-e559263b6474",
   "metadata": {},
   "outputs": [],
   "source": [
    "#isalpha() method"
   ]
  },
  {
   "cell_type": "code",
   "execution_count": 79,
   "id": "e5f15c83-3089-4129-97d5-3bc7526d362f",
   "metadata": {},
   "outputs": [
    {
     "name": "stdout",
     "output_type": "stream",
     "text": [
      "abc123 hello 12345\n"
     ]
    }
   ],
   "source": [
    "print(string, string2, string3)"
   ]
  },
  {
   "cell_type": "code",
   "execution_count": 76,
   "id": "e655f0a0-c11b-43d6-b1e0-b5ec133fccbc",
   "metadata": {},
   "outputs": [
    {
     "data": {
      "text/plain": [
       "False"
      ]
     },
     "execution_count": 76,
     "metadata": {},
     "output_type": "execute_result"
    }
   ],
   "source": [
    "string.isalpha()"
   ]
  },
  {
   "cell_type": "code",
   "execution_count": 77,
   "id": "102fe449-6449-4c03-afee-d15fca9a90a4",
   "metadata": {},
   "outputs": [
    {
     "data": {
      "text/plain": [
       "True"
      ]
     },
     "execution_count": 77,
     "metadata": {},
     "output_type": "execute_result"
    }
   ],
   "source": [
    "string2.isalpha()"
   ]
  },
  {
   "cell_type": "code",
   "execution_count": 78,
   "id": "0360650c-49fb-4daf-b548-6d767aa0d9e1",
   "metadata": {},
   "outputs": [
    {
     "data": {
      "text/plain": [
       "False"
      ]
     },
     "execution_count": 78,
     "metadata": {},
     "output_type": "execute_result"
    }
   ],
   "source": [
    "string3.isalpha()"
   ]
  },
  {
   "cell_type": "code",
   "execution_count": null,
   "id": "d3260b81-5cf9-466d-8c6c-f4a0830cbf36",
   "metadata": {},
   "outputs": [],
   "source": [
    "#isdigit() method"
   ]
  },
  {
   "cell_type": "code",
   "execution_count": 80,
   "id": "d22fe301-0483-4f0b-8b21-34ded89ed836",
   "metadata": {},
   "outputs": [
    {
     "name": "stdout",
     "output_type": "stream",
     "text": [
      "abc123\n",
      "hello\n",
      "12345\n"
     ]
    }
   ],
   "source": [
    "print(string)\n",
    "print(string2)\n",
    "print(string3)"
   ]
  },
  {
   "cell_type": "code",
   "execution_count": 81,
   "id": "58c9b511-cb4c-4ca0-8c52-8826972e6d1b",
   "metadata": {},
   "outputs": [
    {
     "data": {
      "text/plain": [
       "False"
      ]
     },
     "execution_count": 81,
     "metadata": {},
     "output_type": "execute_result"
    }
   ],
   "source": [
    "string.isdigit()"
   ]
  },
  {
   "cell_type": "code",
   "execution_count": 82,
   "id": "f5bdb538-6076-4ae7-a860-34f5d778667f",
   "metadata": {},
   "outputs": [
    {
     "data": {
      "text/plain": [
       "False"
      ]
     },
     "execution_count": 82,
     "metadata": {},
     "output_type": "execute_result"
    }
   ],
   "source": [
    "string2.isdigit()"
   ]
  },
  {
   "cell_type": "code",
   "execution_count": 83,
   "id": "86bc25f4-3e8a-4385-8f62-2daa9f8f6df6",
   "metadata": {},
   "outputs": [
    {
     "data": {
      "text/plain": [
       "True"
      ]
     },
     "execution_count": 83,
     "metadata": {},
     "output_type": "execute_result"
    }
   ],
   "source": [
    "string3.isdigit()"
   ]
  },
  {
   "cell_type": "code",
   "execution_count": null,
   "id": "91ecefaa-81d4-4006-bd5c-4fffb0ff1c6b",
   "metadata": {},
   "outputs": [],
   "source": [
    "#islower() method"
   ]
  },
  {
   "cell_type": "code",
   "execution_count": 84,
   "id": "888062c7-be41-4a79-8151-9b28f5fcf94f",
   "metadata": {},
   "outputs": [
    {
     "data": {
      "text/plain": [
       "True"
      ]
     },
     "execution_count": 84,
     "metadata": {},
     "output_type": "execute_result"
    }
   ],
   "source": [
    "s12='there'\n",
    "s13='THERE'\n",
    "s14='Goldy'\n",
    "s12.islower()"
   ]
  },
  {
   "cell_type": "code",
   "execution_count": 86,
   "id": "1be66d62-1d90-4bd3-8ec2-26bfb7c4f3ae",
   "metadata": {},
   "outputs": [
    {
     "data": {
      "text/plain": [
       "False"
      ]
     },
     "execution_count": 86,
     "metadata": {},
     "output_type": "execute_result"
    }
   ],
   "source": [
    "s13.islower()"
   ]
  },
  {
   "cell_type": "code",
   "execution_count": 87,
   "id": "43592dff-f80d-4e3f-859b-3869db80cc7f",
   "metadata": {},
   "outputs": [
    {
     "data": {
      "text/plain": [
       "False"
      ]
     },
     "execution_count": 87,
     "metadata": {},
     "output_type": "execute_result"
    }
   ],
   "source": [
    "s14.islower()"
   ]
  },
  {
   "cell_type": "code",
   "execution_count": null,
   "id": "a1441c05-69dd-48d8-bc7c-0cb158656617",
   "metadata": {},
   "outputs": [],
   "source": [
    "#isspace() method"
   ]
  },
  {
   "cell_type": "code",
   "execution_count": 88,
   "id": "00a0047c-1c8e-41e9-9449-d7fb8f5635ed",
   "metadata": {},
   "outputs": [
    {
     "data": {
      "text/plain": [
       "False"
      ]
     },
     "execution_count": 88,
     "metadata": {},
     "output_type": "execute_result"
    }
   ],
   "source": [
    "s15='deepak shakyawar'\n",
    "s16='   '\n",
    "s17='' \n",
    "s15.isspace()"
   ]
  },
  {
   "cell_type": "code",
   "execution_count": 89,
   "id": "d126174e-8de3-4f75-b2f8-fe419877c93c",
   "metadata": {},
   "outputs": [
    {
     "data": {
      "text/plain": [
       "True"
      ]
     },
     "execution_count": 89,
     "metadata": {},
     "output_type": "execute_result"
    }
   ],
   "source": [
    "s16.isspace()"
   ]
  },
  {
   "cell_type": "code",
   "execution_count": 90,
   "id": "3de85ee7-c919-47f7-9427-a37299cf0d1d",
   "metadata": {},
   "outputs": [
    {
     "data": {
      "text/plain": [
       "False"
      ]
     },
     "execution_count": 90,
     "metadata": {},
     "output_type": "execute_result"
    }
   ],
   "source": [
    "s17.isspace()"
   ]
  },
  {
   "cell_type": "code",
   "execution_count": 91,
   "id": "8f7bbc1d-ac1a-4a5f-9442-b7836bb736eb",
   "metadata": {},
   "outputs": [
    {
     "data": {
      "text/plain": [
       "False"
      ]
     },
     "execution_count": 91,
     "metadata": {},
     "output_type": "execute_result"
    }
   ],
   "source": [
    "s15.isalnum()"
   ]
  },
  {
   "cell_type": "code",
   "execution_count": 92,
   "id": "e78616c5-da17-4618-af20-c1923985e673",
   "metadata": {},
   "outputs": [
    {
     "data": {
      "text/plain": [
       "True"
      ]
     },
     "execution_count": 92,
     "metadata": {},
     "output_type": "execute_result"
    }
   ],
   "source": [
    "s15.isalnum()!=True #to check space or ther character in strings"
   ]
  },
  {
   "cell_type": "code",
   "execution_count": null,
   "id": "9fb3ddf3-35f9-4de6-a814-7717f71a103c",
   "metadata": {},
   "outputs": [],
   "source": [
    "#isupper() method"
   ]
  },
  {
   "cell_type": "code",
   "execution_count": 95,
   "id": "e8a49b17-020e-4a70-8313-de5dfc221439",
   "metadata": {},
   "outputs": [
    {
     "name": "stdout",
     "output_type": "stream",
     "text": [
      "THERE\n",
      "there\n",
      "Goldy\n"
     ]
    }
   ],
   "source": [
    "print(s13)\n",
    "print(s12)\n",
    "print(s14)"
   ]
  },
  {
   "cell_type": "code",
   "execution_count": 96,
   "id": "799a7e8b-2738-4157-9bfe-338af198c1fa",
   "metadata": {},
   "outputs": [
    {
     "data": {
      "text/plain": [
       "True"
      ]
     },
     "execution_count": 96,
     "metadata": {},
     "output_type": "execute_result"
    }
   ],
   "source": [
    "s13.isupper()"
   ]
  },
  {
   "cell_type": "code",
   "execution_count": 97,
   "id": "7687d953-3389-4094-9aa6-e3f51f4c8d2c",
   "metadata": {},
   "outputs": [
    {
     "data": {
      "text/plain": [
       "False"
      ]
     },
     "execution_count": 97,
     "metadata": {},
     "output_type": "execute_result"
    }
   ],
   "source": [
    "s12.isupper()"
   ]
  },
  {
   "cell_type": "code",
   "execution_count": 98,
   "id": "2d9d8f82-b0c2-4606-b91d-817b06214a57",
   "metadata": {},
   "outputs": [
    {
     "data": {
      "text/plain": [
       "False"
      ]
     },
     "execution_count": 98,
     "metadata": {},
     "output_type": "execute_result"
    }
   ],
   "source": [
    "s14.isupper()"
   ]
  },
  {
   "cell_type": "code",
   "execution_count": null,
   "id": "d403e797-0871-46f9-a2b6-2b900b89a607",
   "metadata": {},
   "outputs": [],
   "source": [
    "#lower() method"
   ]
  },
  {
   "cell_type": "code",
   "execution_count": 99,
   "id": "3e3cfb48-a7a4-43e7-9998-40afdc639459",
   "metadata": {},
   "outputs": [
    {
     "data": {
      "text/plain": [
       "'abc123'"
      ]
     },
     "execution_count": 99,
     "metadata": {},
     "output_type": "execute_result"
    }
   ],
   "source": [
    "string"
   ]
  },
  {
   "cell_type": "code",
   "execution_count": 100,
   "id": "bebc128d-f5ce-4874-8084-b1dc457e5535",
   "metadata": {},
   "outputs": [
    {
     "data": {
      "text/plain": [
       "'hello'"
      ]
     },
     "execution_count": 100,
     "metadata": {},
     "output_type": "execute_result"
    }
   ],
   "source": [
    "string2"
   ]
  },
  {
   "cell_type": "code",
   "execution_count": 101,
   "id": "87f8dca1-dde9-4a49-a0ca-c8f52012fd4d",
   "metadata": {},
   "outputs": [
    {
     "data": {
      "text/plain": [
       "'12345'"
      ]
     },
     "execution_count": 101,
     "metadata": {},
     "output_type": "execute_result"
    }
   ],
   "source": [
    "string3"
   ]
  },
  {
   "cell_type": "code",
   "execution_count": 106,
   "id": "fe5cc2d5-f146-419b-8652-29afd30faff1",
   "metadata": {},
   "outputs": [
    {
     "data": {
      "text/plain": [
       "'THERE'"
      ]
     },
     "execution_count": 106,
     "metadata": {},
     "output_type": "execute_result"
    }
   ],
   "source": [
    "s13"
   ]
  },
  {
   "cell_type": "code",
   "execution_count": 109,
   "id": "aa47c6ca-bc0a-49c8-8690-56a0b7fcbfc4",
   "metadata": {},
   "outputs": [
    {
     "data": {
      "text/plain": [
       "'abc123'"
      ]
     },
     "execution_count": 109,
     "metadata": {},
     "output_type": "execute_result"
    }
   ],
   "source": [
    "string.lower()"
   ]
  },
  {
   "cell_type": "code",
   "execution_count": 110,
   "id": "109a8dfe-0eb9-4d53-9b06-74dbc1afaf24",
   "metadata": {},
   "outputs": [
    {
     "data": {
      "text/plain": [
       "'there'"
      ]
     },
     "execution_count": 110,
     "metadata": {},
     "output_type": "execute_result"
    }
   ],
   "source": [
    "s13.lower()"
   ]
  },
  {
   "cell_type": "code",
   "execution_count": null,
   "id": "036e14b0-95be-4709-affb-7d40e8196928",
   "metadata": {},
   "outputs": [],
   "source": [
    "#upper() method"
   ]
  },
  {
   "cell_type": "code",
   "execution_count": 111,
   "id": "fbef9048-ae79-4bc2-9e96-8bc6e6af936f",
   "metadata": {},
   "outputs": [
    {
     "data": {
      "text/plain": [
       "'hello'"
      ]
     },
     "execution_count": 111,
     "metadata": {},
     "output_type": "execute_result"
    }
   ],
   "source": [
    "string2"
   ]
  },
  {
   "cell_type": "code",
   "execution_count": 113,
   "id": "5406c285-1f84-471c-83f4-3147a476827d",
   "metadata": {},
   "outputs": [
    {
     "data": {
      "text/plain": [
       "'HELLO'"
      ]
     },
     "execution_count": 113,
     "metadata": {},
     "output_type": "execute_result"
    }
   ],
   "source": [
    "string2.upper()"
   ]
  },
  {
   "cell_type": "code",
   "execution_count": 114,
   "id": "c1f639a9-14f6-44a2-9b7e-e3ac4d74a85b",
   "metadata": {},
   "outputs": [
    {
     "data": {
      "text/plain": [
       "'abc123'"
      ]
     },
     "execution_count": 114,
     "metadata": {},
     "output_type": "execute_result"
    }
   ],
   "source": [
    "string"
   ]
  },
  {
   "cell_type": "code",
   "execution_count": 115,
   "id": "191e94c4-2592-4594-9295-75742b51726d",
   "metadata": {},
   "outputs": [
    {
     "data": {
      "text/plain": [
       "'ABC123'"
      ]
     },
     "execution_count": 115,
     "metadata": {},
     "output_type": "execute_result"
    }
   ],
   "source": [
    "string.upper()"
   ]
  },
  {
   "cell_type": "code",
   "execution_count": null,
   "id": "77bd88d4-055b-47ee-8936-851ae97b2803",
   "metadata": {},
   "outputs": [],
   "source": []
  },
  {
   "cell_type": "code",
   "execution_count": null,
   "id": "c4c3debc-bac8-4332-b5de-1ea23a5707f6",
   "metadata": {},
   "outputs": [],
   "source": [
    "#lstrip(), rstrip(), strip()"
   ]
  },
  {
   "cell_type": "code",
   "execution_count": 118,
   "id": "9b9b5b05-ca9f-4531-8272-fb88a3f6e16c",
   "metadata": {},
   "outputs": [
    {
     "data": {
      "text/plain": [
       "'deepak'"
      ]
     },
     "execution_count": 118,
     "metadata": {},
     "output_type": "execute_result"
    }
   ],
   "source": [
    "'   deepak'.lstrip()"
   ]
  },
  {
   "cell_type": "code",
   "execution_count": 119,
   "id": "f8dfaac6-adbb-4371-89ed-4997ab692ab2",
   "metadata": {},
   "outputs": [
    {
     "data": {
      "text/plain": [
       "'   deepak'"
      ]
     },
     "execution_count": 119,
     "metadata": {},
     "output_type": "execute_result"
    }
   ],
   "source": [
    "'   deepak  '.rstrip()"
   ]
  },
  {
   "cell_type": "code",
   "execution_count": 120,
   "id": "e9a5746b-5bf0-4d0c-a918-33de59c72b4d",
   "metadata": {},
   "outputs": [
    {
     "data": {
      "text/plain": [
       "'deepak'"
      ]
     },
     "execution_count": 120,
     "metadata": {},
     "output_type": "execute_result"
    }
   ],
   "source": [
    "'   deepak   '.strip()"
   ]
  },
  {
   "cell_type": "code",
   "execution_count": null,
   "id": "5dec79bb-c86e-4bd7-bedb-a4284ac947d5",
   "metadata": {},
   "outputs": [],
   "source": [
    "#startswith(), endswith() methods"
   ]
  },
  {
   "cell_type": "code",
   "execution_count": 121,
   "id": "563e1990-6590-4c51-872f-3ae3df6d3420",
   "metadata": {},
   "outputs": [
    {
     "data": {
      "text/plain": [
       "True"
      ]
     },
     "execution_count": 121,
     "metadata": {},
     "output_type": "execute_result"
    }
   ],
   "source": [
    "'abcd'.startswith('ab')"
   ]
  },
  {
   "cell_type": "code",
   "execution_count": 122,
   "id": "ee1cf12b-605e-4d3f-aa4b-d1d590179939",
   "metadata": {},
   "outputs": [
    {
     "data": {
      "text/plain": [
       "True"
      ]
     },
     "execution_count": 122,
     "metadata": {},
     "output_type": "execute_result"
    }
   ],
   "source": [
    "'abcd'.endswith('d')"
   ]
  },
  {
   "cell_type": "code",
   "execution_count": 125,
   "id": "3b051e07-2d83-4eee-a969-0eb9e6374278",
   "metadata": {},
   "outputs": [
    {
     "data": {
      "text/plain": [
       "False"
      ]
     },
     "execution_count": 125,
     "metadata": {},
     "output_type": "execute_result"
    }
   ],
   "source": [
    "'abcd'.startswith(\"c\")"
   ]
  },
  {
   "cell_type": "code",
   "execution_count": null,
   "id": "85ed933a-bc37-41dc-8933-6dabed7aba71",
   "metadata": {},
   "outputs": [],
   "source": [
    "#title() method"
   ]
  },
  {
   "cell_type": "code",
   "execution_count": 126,
   "id": "2415829c-eb68-4a45-9c41-b8761ad19053",
   "metadata": {},
   "outputs": [
    {
     "data": {
      "text/plain": [
       "'Hello Python'"
      ]
     },
     "execution_count": 126,
     "metadata": {},
     "output_type": "execute_result"
    }
   ],
   "source": [
    "'hello python'.title()"
   ]
  },
  {
   "cell_type": "code",
   "execution_count": 127,
   "id": "cdf58c9b-d8a6-489c-8f67-833ce95c92c4",
   "metadata": {},
   "outputs": [
    {
     "data": {
      "text/plain": [
       "'Monty Python Flying Circus'"
      ]
     },
     "execution_count": 127,
     "metadata": {},
     "output_type": "execute_result"
    }
   ],
   "source": [
    "'monty python flying circus'.title()"
   ]
  },
  {
   "cell_type": "code",
   "execution_count": null,
   "id": "52f2c772-5814-4741-ac54-48f2b8c939be",
   "metadata": {},
   "outputs": [],
   "source": [
    "#istitle() method"
   ]
  },
  {
   "cell_type": "code",
   "execution_count": 128,
   "id": "5578055c-2fd0-49a3-868a-9c02e9e88827",
   "metadata": {},
   "outputs": [
    {
     "data": {
      "text/plain": [
       "True"
      ]
     },
     "execution_count": 128,
     "metadata": {},
     "output_type": "execute_result"
    }
   ],
   "source": [
    "'Hello Python'.istitle()"
   ]
  },
  {
   "cell_type": "code",
   "execution_count": 129,
   "id": "f26f1739-dadd-40a0-bcb9-2303d7f8a1ea",
   "metadata": {},
   "outputs": [
    {
     "data": {
      "text/plain": [
       "False"
      ]
     },
     "execution_count": 129,
     "metadata": {},
     "output_type": "execute_result"
    }
   ],
   "source": [
    "'hello python'.istitle()"
   ]
  },
  {
   "cell_type": "code",
   "execution_count": null,
   "id": "80df2dad-95f2-4c2d-9100-cd82a0316380",
   "metadata": {},
   "outputs": [],
   "source": [
    "#replace() method"
   ]
  },
  {
   "cell_type": "code",
   "execution_count": 130,
   "id": "d9af2d82-6c59-4025-93f8-64a07d5eddc9",
   "metadata": {},
   "outputs": [
    {
     "data": {
      "text/plain": [
       "'I care for you'"
      ]
     },
     "execution_count": 130,
     "metadata": {},
     "output_type": "execute_result"
    }
   ],
   "source": [
    "'I work for you'.replace('work','care')"
   ]
  },
  {
   "cell_type": "code",
   "execution_count": 141,
   "id": "8d7300e0-4f1c-4c02-b18e-a40e097e11cc",
   "metadata": {},
   "outputs": [
    {
     "data": {
      "text/plain": [
       "'U and i work for U'"
      ]
     },
     "execution_count": 141,
     "metadata": {},
     "output_type": "execute_result"
    }
   ],
   "source": [
    "('You and I work for you'.lower()).replace('you','U')"
   ]
  },
  {
   "cell_type": "code",
   "execution_count": null,
   "id": "f5f059b4-56ad-479f-8832-a5ff8b30bfee",
   "metadata": {},
   "outputs": [],
   "source": [
    "#join() method"
   ]
  },
  {
   "cell_type": "code",
   "execution_count": 1,
   "id": "b74c7938-6179-4f2e-b81b-6f095190192d",
   "metadata": {},
   "outputs": [
    {
     "data": {
      "text/plain": [
       "'h*e*l*l*o'"
      ]
     },
     "execution_count": 1,
     "metadata": {},
     "output_type": "execute_result"
    }
   ],
   "source": [
    "'*'.join('hello')"
   ]
  },
  {
   "cell_type": "code",
   "execution_count": 2,
   "id": "20375dbc-5fa5-4576-b429-71466dafdf16",
   "metadata": {},
   "outputs": [
    {
     "data": {
      "text/plain": [
       "'trial$$hello'"
      ]
     },
     "execution_count": 2,
     "metadata": {},
     "output_type": "execute_result"
    }
   ],
   "source": [
    "'$$'.join(['trial','hello'])"
   ]
  },
  {
   "cell_type": "code",
   "execution_count": 3,
   "id": "63536912-daf7-426f-9abb-6d3730051694",
   "metadata": {},
   "outputs": [
    {
     "data": {
      "text/plain": [
       "'trial##hello##new'"
      ]
     },
     "execution_count": 3,
     "metadata": {},
     "output_type": "execute_result"
    }
   ],
   "source": [
    "'##'.join(('trial','hello','new'))"
   ]
  },
  {
   "cell_type": "code",
   "execution_count": 4,
   "id": "2cd1dc8d-e7b2-427b-8b34-aff884f30489",
   "metadata": {},
   "outputs": [
    {
     "ename": "TypeError",
     "evalue": "sequence item 0: expected str instance, int found",
     "output_type": "error",
     "traceback": [
      "\u001b[1;31m---------------------------------------------------------------------------\u001b[0m",
      "\u001b[1;31mTypeError\u001b[0m                                 Traceback (most recent call last)",
      "Cell \u001b[1;32mIn[4], line 1\u001b[0m\n\u001b[1;32m----> 1\u001b[0m \u001b[38;5;124m'\u001b[39m\u001b[38;5;124m##\u001b[39m\u001b[38;5;124m'\u001b[39m\u001b[38;5;241m.\u001b[39mjoin((\u001b[38;5;241m123\u001b[39m,\u001b[38;5;124m'\u001b[39m\u001b[38;5;124mhello\u001b[39m\u001b[38;5;124m'\u001b[39m,\u001b[38;5;124m'\u001b[39m\u001b[38;5;124mnew\u001b[39m\u001b[38;5;124m'\u001b[39m))\n",
      "\u001b[1;31mTypeError\u001b[0m: sequence item 0: expected str instance, int found"
     ]
    }
   ],
   "source": [
    "'##'.join((123,'hello','new')) #argument must be iterable sequence"
   ]
  },
  {
   "cell_type": "code",
   "execution_count": null,
   "id": "ce3ce6f7-9c16-4878-98e5-9c41b9f42bf1",
   "metadata": {},
   "outputs": [],
   "source": [
    "#split() method"
   ]
  },
  {
   "cell_type": "code",
   "execution_count": 15,
   "id": "83213371-8ba1-423e-ac34-007235dc2c2b",
   "metadata": {},
   "outputs": [
    {
     "data": {
      "text/plain": [
       "['I', 'love', 'python']"
      ]
     },
     "execution_count": 15,
     "metadata": {},
     "output_type": "execute_result"
    }
   ],
   "source": [
    "a='I love python'.split() #it returns as a list\n",
    "type(a)\n",
    "a"
   ]
  },
  {
   "cell_type": "code",
   "execution_count": 17,
   "id": "e64a5875-6931-4d29-ad1f-a3e929c89be6",
   "metadata": {},
   "outputs": [
    {
     "data": {
      "text/plain": [
       "['I L', 've Pyth', 'n']"
      ]
     },
     "execution_count": 17,
     "metadata": {},
     "output_type": "execute_result"
    }
   ],
   "source": [
    "b='I Love Python'\n",
    "b.split('o')"
   ]
  },
  {
   "cell_type": "code",
   "execution_count": null,
   "id": "122629a3-b6fa-45f4-850a-d277985e08ff",
   "metadata": {},
   "outputs": [],
   "source": [
    "#partition method"
   ]
  },
  {
   "cell_type": "code",
   "execution_count": 19,
   "id": "41e50a67-e5fc-4694-96f2-45308538c3a6",
   "metadata": {},
   "outputs": [
    {
     "name": "stdout",
     "output_type": "stream",
     "text": [
      "('I enjoy ', 'working', ' in Python')\n"
     ]
    }
   ],
   "source": [
    "text='I enjoy working in Python'\n",
    "x=text.partition('working') # it returns a tuple\n",
    "print(x)"
   ]
  },
  {
   "cell_type": "code",
   "execution_count": null,
   "id": "0173ca56-3abb-43ac-bc1f-d10a4e0cbb43",
   "metadata": {},
   "outputs": [],
   "source": []
  },
  {
   "cell_type": "code",
   "execution_count": null,
   "id": "a90bed85-d838-4e55-aadf-43f95a5ca0a7",
   "metadata": {},
   "outputs": [],
   "source": []
  },
  {
   "cell_type": "code",
   "execution_count": null,
   "id": "3b41215e-8e8c-4f89-a1b9-965dd3e1d8c6",
   "metadata": {},
   "outputs": [],
   "source": []
  },
  {
   "cell_type": "code",
   "execution_count": null,
   "id": "b4a72aba-7668-4d60-a542-6fa35afd3b5b",
   "metadata": {},
   "outputs": [],
   "source": []
  },
  {
   "cell_type": "code",
   "execution_count": null,
   "id": "d45a1314-2c0f-4358-851c-4946b3eef526",
   "metadata": {},
   "outputs": [],
   "source": []
  },
  {
   "cell_type": "code",
   "execution_count": null,
   "id": "853bb652-2e5e-4086-a4e7-0b749a513434",
   "metadata": {},
   "outputs": [],
   "source": []
  },
  {
   "cell_type": "code",
   "execution_count": null,
   "id": "482aa2ce-3fd1-4010-9b91-d5446d91f300",
   "metadata": {},
   "outputs": [],
   "source": []
  },
  {
   "cell_type": "code",
   "execution_count": null,
   "id": "2463d0bf-abfa-450d-9d52-0a55914bd59d",
   "metadata": {},
   "outputs": [],
   "source": []
  }
 ],
 "metadata": {
  "kernelspec": {
   "display_name": "Python 3 (ipykernel)",
   "language": "python",
   "name": "python3"
  },
  "language_info": {
   "codemirror_mode": {
    "name": "ipython",
    "version": 3
   },
   "file_extension": ".py",
   "mimetype": "text/x-python",
   "name": "python",
   "nbconvert_exporter": "python",
   "pygments_lexer": "ipython3",
   "version": "3.12.7"
  }
 },
 "nbformat": 4,
 "nbformat_minor": 5
}
